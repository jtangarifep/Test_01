{
  "nbformat": 4,
  "nbformat_minor": 0,
  "metadata": {
    "colab": {
      "name": "Taller_Session_01.ipynb",
      "provenance": [],
      "include_colab_link": true
    },
    "kernelspec": {
      "name": "python3",
      "display_name": "Python 3"
    }
  },
  "cells": [
    {
      "cell_type": "markdown",
      "metadata": {
        "id": "view-in-github",
        "colab_type": "text"
      },
      "source": [
        "<a href=\"https://colab.research.google.com/github/jtangarifep/Test_01/blob/master/Taller_Session_01.ipynb\" target=\"_parent\"><img src=\"https://colab.research.google.com/assets/colab-badge.svg\" alt=\"Open In Colab\"/></a>"
      ]
    },
    {
      "cell_type": "code",
      "metadata": {
        "id": "T6SGbOtvDW_L",
        "colab_type": "code",
        "colab": {}
      },
      "source": [
        "#1\n",
        "!mkdir practica-bash-1"
      ],
      "execution_count": 0,
      "outputs": []
    },
    {
      "cell_type": "code",
      "metadata": {
        "id": "h5ev7i4uDwRP",
        "colab_type": "code",
        "colab": {}
      },
      "source": [
        "#2\n",
        "!cd practica-bash-1"
      ],
      "execution_count": 0,
      "outputs": []
    },
    {
      "cell_type": "code",
      "metadata": {
        "id": "Uwnh8HnvD34g",
        "colab_type": "code",
        "colab": {}
      },
      "source": [
        "!mkdir 1 && mkdir 2 && mkdir 3"
      ],
      "execution_count": 0,
      "outputs": []
    },
    {
      "cell_type": "code",
      "metadata": {
        "id": "WSuanuveErM9",
        "colab_type": "code",
        "colab": {
          "base_uri": "https://localhost:8080/",
          "height": 34
        },
        "outputId": "afd85160-02f4-4863-b85c-0eeadb88027a"
      },
      "source": [
        "cd practica-bash-1/"
      ],
      "execution_count": 18,
      "outputs": [
        {
          "output_type": "stream",
          "text": [
            "/content/practica-bash-1\n"
          ],
          "name": "stdout"
        }
      ]
    },
    {
      "cell_type": "code",
      "metadata": {
        "id": "iBhTl85tEwm6",
        "colab_type": "code",
        "colab": {
          "base_uri": "https://localhost:8080/",
          "height": 34
        },
        "outputId": "98798fc7-00be-4de2-fcbf-7103426b0679"
      },
      "source": [
        "pwd"
      ],
      "execution_count": 19,
      "outputs": [
        {
          "output_type": "execute_result",
          "data": {
            "text/plain": [
              "'/content/practica-bash-1'"
            ]
          },
          "metadata": {
            "tags": []
          },
          "execution_count": 19
        }
      ]
    },
    {
      "cell_type": "code",
      "metadata": {
        "id": "aRZjJUrAE2IV",
        "colab_type": "code",
        "colab": {}
      },
      "source": [
        "!mkdir 1"
      ],
      "execution_count": 0,
      "outputs": []
    },
    {
      "cell_type": "code",
      "metadata": {
        "id": "wiuSd2UaE4zZ",
        "colab_type": "code",
        "colab": {}
      },
      "source": [
        "!mkdir 2\n",
        "!mkdir 3"
      ],
      "execution_count": 0,
      "outputs": []
    },
    {
      "cell_type": "code",
      "metadata": {
        "id": "qxYcpVGcE9Yl",
        "colab_type": "code",
        "colab": {
          "base_uri": "https://localhost:8080/",
          "height": 85
        },
        "outputId": "009ca708-a9cf-4f4d-f6d8-64f431e3b84b"
      },
      "source": [
        "!ls -l"
      ],
      "execution_count": 22,
      "outputs": [
        {
          "output_type": "stream",
          "text": [
            "total 12\n",
            "drwxr-xr-x 2 root root 4096 Sep 20 23:48 1\n",
            "drwxr-xr-x 2 root root 4096 Sep 20 23:48 2\n",
            "drwxr-xr-x 2 root root 4096 Sep 20 23:48 3\n"
          ],
          "name": "stdout"
        }
      ]
    },
    {
      "cell_type": "code",
      "metadata": {
        "id": "sAj1W12UFBIf",
        "colab_type": "code",
        "colab": {
          "base_uri": "https://localhost:8080/",
          "height": 34
        },
        "outputId": "722e1d72-d91e-48e9-dc15-df8ccb8b46f1"
      },
      "source": [
        "pwd"
      ],
      "execution_count": 23,
      "outputs": [
        {
          "output_type": "execute_result",
          "data": {
            "text/plain": [
              "'/content/practica-bash-1'"
            ]
          },
          "metadata": {
            "tags": []
          },
          "execution_count": 23
        }
      ]
    },
    {
      "cell_type": "code",
      "metadata": {
        "id": "-dsy5lkwFCkP",
        "colab_type": "code",
        "colab": {
          "base_uri": "https://localhost:8080/",
          "height": 34
        },
        "outputId": "9b0cad43-e266-4665-bbaa-dc069144d780"
      },
      "source": [
        "cd 1"
      ],
      "execution_count": 24,
      "outputs": [
        {
          "output_type": "stream",
          "text": [
            "/content/practica-bash-1/1\n"
          ],
          "name": "stdout"
        }
      ]
    },
    {
      "cell_type": "code",
      "metadata": {
        "id": "IAkEkqX3FGMZ",
        "colab_type": "code",
        "colab": {
          "base_uri": "https://localhost:8080/",
          "height": 34
        },
        "outputId": "750ddd1c-0eca-4dcd-bacb-60c8644329dd"
      },
      "source": [
        "pwd"
      ],
      "execution_count": 25,
      "outputs": [
        {
          "output_type": "execute_result",
          "data": {
            "text/plain": [
              "'/content/practica-bash-1/1'"
            ]
          },
          "metadata": {
            "tags": []
          },
          "execution_count": 25
        }
      ]
    },
    {
      "cell_type": "code",
      "metadata": {
        "id": "dsamNNMjFHZQ",
        "colab_type": "code",
        "colab": {}
      },
      "source": [
        "!mkdir 1-1\n",
        "!mkdir 1-2\n",
        "!mkdir 1-3"
      ],
      "execution_count": 0,
      "outputs": []
    },
    {
      "cell_type": "code",
      "metadata": {
        "id": "cXl9BbuyFN1h",
        "colab_type": "code",
        "colab": {
          "base_uri": "https://localhost:8080/",
          "height": 34
        },
        "outputId": "3e17d34d-4024-421f-95a0-20a726e7673d"
      },
      "source": [
        "cd .."
      ],
      "execution_count": 27,
      "outputs": [
        {
          "output_type": "stream",
          "text": [
            "/content/practica-bash-1\n"
          ],
          "name": "stdout"
        }
      ]
    },
    {
      "cell_type": "code",
      "metadata": {
        "id": "Sqr4S6TGFQeF",
        "colab_type": "code",
        "colab": {
          "base_uri": "https://localhost:8080/",
          "height": 34
        },
        "outputId": "565109f7-09c3-4d8d-f015-be4a64714ea9"
      },
      "source": [
        "pwd"
      ],
      "execution_count": 28,
      "outputs": [
        {
          "output_type": "execute_result",
          "data": {
            "text/plain": [
              "'/content/practica-bash-1'"
            ]
          },
          "metadata": {
            "tags": []
          },
          "execution_count": 28
        }
      ]
    },
    {
      "cell_type": "code",
      "metadata": {
        "id": "_8ZXvkAsFRqN",
        "colab_type": "code",
        "colab": {
          "base_uri": "https://localhost:8080/",
          "height": 34
        },
        "outputId": "1ea87002-d27e-4048-b71f-8028e4cac05c"
      },
      "source": [
        "cd 2"
      ],
      "execution_count": 29,
      "outputs": [
        {
          "output_type": "stream",
          "text": [
            "/content/practica-bash-1/2\n"
          ],
          "name": "stdout"
        }
      ]
    },
    {
      "cell_type": "code",
      "metadata": {
        "id": "kSuducTWFSq6",
        "colab_type": "code",
        "colab": {}
      },
      "source": [
        "!mkdir 2-1\n",
        "!mkdir 2-2\n",
        "!mkdir 2-3"
      ],
      "execution_count": 0,
      "outputs": []
    },
    {
      "cell_type": "code",
      "metadata": {
        "id": "FUcDQyXdFYIH",
        "colab_type": "code",
        "colab": {
          "base_uri": "https://localhost:8080/",
          "height": 85
        },
        "outputId": "c3a221df-7787-4208-fce7-7946930a8c56"
      },
      "source": [
        "ls -l"
      ],
      "execution_count": 31,
      "outputs": [
        {
          "output_type": "stream",
          "text": [
            "total 12\n",
            "drwxr-xr-x 2 root root 4096 Sep 20 23:50 \u001b[0m\u001b[01;34m2-1\u001b[0m/\n",
            "drwxr-xr-x 2 root root 4096 Sep 20 23:50 \u001b[01;34m2-2\u001b[0m/\n",
            "drwxr-xr-x 2 root root 4096 Sep 20 23:50 \u001b[01;34m2-3\u001b[0m/\n"
          ],
          "name": "stdout"
        }
      ]
    },
    {
      "cell_type": "code",
      "metadata": {
        "id": "J4X341QWFaSK",
        "colab_type": "code",
        "colab": {
          "base_uri": "https://localhost:8080/",
          "height": 34
        },
        "outputId": "19c01456-2000-4250-b806-623cb7878c18"
      },
      "source": [
        "cd .."
      ],
      "execution_count": 32,
      "outputs": [
        {
          "output_type": "stream",
          "text": [
            "/content/practica-bash-1\n"
          ],
          "name": "stdout"
        }
      ]
    },
    {
      "cell_type": "code",
      "metadata": {
        "id": "nXgdUkyJFc-E",
        "colab_type": "code",
        "colab": {
          "base_uri": "https://localhost:8080/",
          "height": 34
        },
        "outputId": "db4f9842-2a66-4ecb-c690-dacb8ab4bcdf"
      },
      "source": [
        "cd 3"
      ],
      "execution_count": 33,
      "outputs": [
        {
          "output_type": "stream",
          "text": [
            "/content/practica-bash-1/3\n"
          ],
          "name": "stdout"
        }
      ]
    },
    {
      "cell_type": "code",
      "metadata": {
        "id": "dzH-rzDgFfD9",
        "colab_type": "code",
        "colab": {}
      },
      "source": [
        "!mkdir 3-1\n",
        "!mkdir 3-2\n",
        "!mkdir 3-3"
      ],
      "execution_count": 0,
      "outputs": []
    },
    {
      "cell_type": "code",
      "metadata": {
        "id": "Cjcrtmx6Fi24",
        "colab_type": "code",
        "colab": {
          "base_uri": "https://localhost:8080/",
          "height": 51
        },
        "outputId": "3042f06b-1b86-4f22-9346-a0defd60602e"
      },
      "source": [
        "ls - l"
      ],
      "execution_count": 36,
      "outputs": [
        {
          "output_type": "stream",
          "text": [
            "ls: cannot access '-': No such file or directory\n",
            "ls: cannot access 'l': No such file or directory\n"
          ],
          "name": "stdout"
        }
      ]
    },
    {
      "cell_type": "code",
      "metadata": {
        "id": "ok206mhfFpLx",
        "colab_type": "code",
        "colab": {
          "base_uri": "https://localhost:8080/",
          "height": 85
        },
        "outputId": "1615971b-5144-49a7-e15a-bdc9fc3434e1"
      },
      "source": [
        "ls -l"
      ],
      "execution_count": 37,
      "outputs": [
        {
          "output_type": "stream",
          "text": [
            "total 12\n",
            "drwxr-xr-x 2 root root 4096 Sep 20 23:51 \u001b[0m\u001b[01;34m3-1\u001b[0m/\n",
            "drwxr-xr-x 2 root root 4096 Sep 20 23:51 \u001b[01;34m3-2\u001b[0m/\n",
            "drwxr-xr-x 2 root root 4096 Sep 20 23:51 \u001b[01;34m3-3\u001b[0m/\n"
          ],
          "name": "stdout"
        }
      ]
    },
    {
      "cell_type": "code",
      "metadata": {
        "id": "grhOWVPKFrFp",
        "colab_type": "code",
        "colab": {
          "base_uri": "https://localhost:8080/",
          "height": 34
        },
        "outputId": "a31e8ed4-d1b2-413e-a24f-f0d4b6f6bfd8"
      },
      "source": [
        "cd .."
      ],
      "execution_count": 38,
      "outputs": [
        {
          "output_type": "stream",
          "text": [
            "/content/practica-bash-1\n"
          ],
          "name": "stdout"
        }
      ]
    },
    {
      "cell_type": "code",
      "metadata": {
        "id": "KKcu4SmrFvdg",
        "colab_type": "code",
        "colab": {
          "base_uri": "https://localhost:8080/",
          "height": 34
        },
        "outputId": "142e990a-3c3d-4673-fe78-a7d4634ecdd1"
      },
      "source": [
        "!tree"
      ],
      "execution_count": 39,
      "outputs": [
        {
          "output_type": "stream",
          "text": [
            "/bin/bash: tree: command not found\n"
          ],
          "name": "stdout"
        }
      ]
    },
    {
      "cell_type": "code",
      "metadata": {
        "id": "2gG9fMgmFw10",
        "colab_type": "code",
        "colab": {
          "base_uri": "https://localhost:8080/",
          "height": 164
        },
        "outputId": "a2d8154c-7a21-43c4-f28f-e2567eb6aa84"
      },
      "source": [
        "tree"
      ],
      "execution_count": 40,
      "outputs": [
        {
          "output_type": "error",
          "ename": "NameError",
          "evalue": "ignored",
          "traceback": [
            "\u001b[0;31m---------------------------------------------------------------------------\u001b[0m",
            "\u001b[0;31mNameError\u001b[0m                                 Traceback (most recent call last)",
            "\u001b[0;32m<ipython-input-40-7a1e081e78d4>\u001b[0m in \u001b[0;36m<module>\u001b[0;34m()\u001b[0m\n\u001b[0;32m----> 1\u001b[0;31m \u001b[0mtree\u001b[0m\u001b[0;34m\u001b[0m\u001b[0;34m\u001b[0m\u001b[0m\n\u001b[0m",
            "\u001b[0;31mNameError\u001b[0m: name 'tree' is not defined"
          ]
        }
      ]
    },
    {
      "cell_type": "code",
      "metadata": {
        "id": "oFM3IXBaFx8b",
        "colab_type": "code",
        "colab": {
          "base_uri": "https://localhost:8080/",
          "height": 34
        },
        "outputId": "4a224b0f-94e9-4a75-9713-d7cbed1a83a8"
      },
      "source": [
        "pwd"
      ],
      "execution_count": 41,
      "outputs": [
        {
          "output_type": "execute_result",
          "data": {
            "text/plain": [
              "'/content/practica-bash-1'"
            ]
          },
          "metadata": {
            "tags": []
          },
          "execution_count": 41
        }
      ]
    },
    {
      "cell_type": "code",
      "metadata": {
        "id": "Dz5PBmgWF0yk",
        "colab_type": "code",
        "colab": {
          "base_uri": "https://localhost:8080/",
          "height": 34
        },
        "outputId": "fbfbab63-556f-4417-fb3b-f6dc5eb08d6f"
      },
      "source": [
        "cd 1"
      ],
      "execution_count": 42,
      "outputs": [
        {
          "output_type": "stream",
          "text": [
            "/content/practica-bash-1/1\n"
          ],
          "name": "stdout"
        }
      ]
    },
    {
      "cell_type": "code",
      "metadata": {
        "id": "eCwt4lpEF9DX",
        "colab_type": "code",
        "colab": {
          "base_uri": "https://localhost:8080/",
          "height": 34
        },
        "outputId": "0f55649b-a5d6-42a4-acbc-7936b07651b5"
      },
      "source": [
        "cd 1-1"
      ],
      "execution_count": 43,
      "outputs": [
        {
          "output_type": "stream",
          "text": [
            "/content/practica-bash-1/1/1-1\n"
          ],
          "name": "stdout"
        }
      ]
    },
    {
      "cell_type": "code",
      "metadata": {
        "id": "DpdtIIi8GAho",
        "colab_type": "code",
        "colab": {}
      },
      "source": [
        "!touch _SUCCESS"
      ],
      "execution_count": 0,
      "outputs": []
    },
    {
      "cell_type": "code",
      "metadata": {
        "id": "RAl5Yu_xGaS5",
        "colab_type": "code",
        "colab": {}
      },
      "source": [
        "!touch part-0"
      ],
      "execution_count": 0,
      "outputs": []
    },
    {
      "cell_type": "code",
      "metadata": {
        "id": "35P2V7pKGnmD",
        "colab_type": "code",
        "colab": {
          "base_uri": "https://localhost:8080/",
          "height": 34
        },
        "outputId": "6c318f8e-f7cd-4a5b-9723-394067edc5e9"
      },
      "source": [
        "!ls"
      ],
      "execution_count": 48,
      "outputs": [
        {
          "output_type": "stream",
          "text": [
            "part-0\t_SUCCESS\n"
          ],
          "name": "stdout"
        }
      ]
    },
    {
      "cell_type": "code",
      "metadata": {
        "id": "nPXQzqVcGo_D",
        "colab_type": "code",
        "colab": {}
      },
      "source": [
        "!cp part-0 part-1\n",
        "!cp part-0 part-2"
      ],
      "execution_count": 0,
      "outputs": []
    },
    {
      "cell_type": "code",
      "metadata": {
        "id": "91_s10HfG9pw",
        "colab_type": "code",
        "colab": {
          "base_uri": "https://localhost:8080/",
          "height": 102
        },
        "outputId": "23f56ce9-71fd-40be-eaa5-470b6bfe37eb"
      },
      "source": [
        "!ls -l"
      ],
      "execution_count": 50,
      "outputs": [
        {
          "output_type": "stream",
          "text": [
            "total 0\n",
            "-rw-r--r-- 1 root root 0 Sep 20 23:55 part-0\n",
            "-rw-r--r-- 1 root root 0 Sep 20 23:57 part-1\n",
            "-rw-r--r-- 1 root root 0 Sep 20 23:57 part-2\n",
            "-rw-r--r-- 1 root root 0 Sep 20 23:55 _SUCCESS\n"
          ],
          "name": "stdout"
        }
      ]
    },
    {
      "cell_type": "code",
      "metadata": {
        "id": "LRFk07J2G_e9",
        "colab_type": "code",
        "colab": {}
      },
      "source": [
        "!mv part-0 part-00000\n",
        "!mv part-1 part-00001\n",
        "!mv part-2 part-00002"
      ],
      "execution_count": 0,
      "outputs": []
    },
    {
      "cell_type": "code",
      "metadata": {
        "id": "Kjer8IZEHYM6",
        "colab_type": "code",
        "colab": {
          "base_uri": "https://localhost:8080/",
          "height": 102
        },
        "outputId": "a6dcca84-48f9-4ce1-9bf8-b1274e299ead"
      },
      "source": [
        "!ls -l"
      ],
      "execution_count": 52,
      "outputs": [
        {
          "output_type": "stream",
          "text": [
            "total 0\n",
            "-rw-r--r-- 1 root root 0 Sep 20 23:55 part-00000\n",
            "-rw-r--r-- 1 root root 0 Sep 20 23:57 part-00001\n",
            "-rw-r--r-- 1 root root 0 Sep 20 23:57 part-00002\n",
            "-rw-r--r-- 1 root root 0 Sep 20 23:55 _SUCCESS\n"
          ],
          "name": "stdout"
        }
      ]
    },
    {
      "cell_type": "code",
      "metadata": {
        "id": "L8dFNQClHcG-",
        "colab_type": "code",
        "colab": {
          "base_uri": "https://localhost:8080/",
          "height": 34
        },
        "outputId": "64c9899a-5bbf-45c8-ae4b-5bdf14955f11"
      },
      "source": [
        "!pwd"
      ],
      "execution_count": 53,
      "outputs": [
        {
          "output_type": "stream",
          "text": [
            "/content/practica-bash-1/1/1-1\n"
          ],
          "name": "stdout"
        }
      ]
    },
    {
      "cell_type": "code",
      "metadata": {
        "id": "WKzaQN3VHprt",
        "colab_type": "code",
        "colab": {}
      },
      "source": [
        "mv * /content/practica-bash-1/3/3-3/"
      ],
      "execution_count": 0,
      "outputs": []
    },
    {
      "cell_type": "code",
      "metadata": {
        "id": "7-ySZyAQH5tk",
        "colab_type": "code",
        "colab": {
          "base_uri": "https://localhost:8080/",
          "height": 34
        },
        "outputId": "9897da61-45b6-4b58-c859-f26b2df0f8e6"
      },
      "source": [
        "!pwd"
      ],
      "execution_count": 56,
      "outputs": [
        {
          "output_type": "stream",
          "text": [
            "/content/practica-bash-1/1/1-1\n"
          ],
          "name": "stdout"
        }
      ]
    },
    {
      "cell_type": "code",
      "metadata": {
        "id": "1tikJbLMIO0u",
        "colab_type": "code",
        "colab": {
          "base_uri": "https://localhost:8080/",
          "height": 34
        },
        "outputId": "b5d5c418-b5e3-4c72-b954-a43a0a7ad380"
      },
      "source": [
        "cd /content/"
      ],
      "execution_count": 58,
      "outputs": [
        {
          "output_type": "stream",
          "text": [
            "/content\n"
          ],
          "name": "stdout"
        }
      ]
    },
    {
      "cell_type": "code",
      "metadata": {
        "id": "paXexDVXItN_",
        "colab_type": "code",
        "colab": {
          "base_uri": "https://localhost:8080/",
          "height": 68
        },
        "outputId": "36b4cecd-68d0-4635-9f3a-9802e73e135e"
      },
      "source": [
        "ls -l"
      ],
      "execution_count": 59,
      "outputs": [
        {
          "output_type": "stream",
          "text": [
            "total 8\n",
            "drwxr-xr-x 5 root root 4096 Sep 20 23:48 \u001b[0m\u001b[01;34mpractica-bash-1\u001b[0m/\n",
            "drwxr-xr-x 1 root root 4096 Aug 27 16:17 \u001b[01;34msample_data\u001b[0m/\n"
          ],
          "name": "stdout"
        }
      ]
    },
    {
      "cell_type": "code",
      "metadata": {
        "id": "D2TdABMFIuPF",
        "colab_type": "code",
        "colab": {
          "base_uri": "https://localhost:8080/",
          "height": 34
        },
        "outputId": "233c8cd5-be17-4c6c-cbd6-6e73ec1b1ead"
      },
      "source": [
        "!rm practica-bash-1"
      ],
      "execution_count": 62,
      "outputs": [
        {
          "output_type": "stream",
          "text": [
            "rm: cannot remove 'practica-bash-1': Is a directory\n"
          ],
          "name": "stdout"
        }
      ]
    },
    {
      "cell_type": "code",
      "metadata": {
        "id": "l8l9lCNeI0Fz",
        "colab_type": "code",
        "colab": {}
      },
      "source": [
        "rm /content/practica-bash-1/3/3-3/*"
      ],
      "execution_count": 0,
      "outputs": []
    },
    {
      "cell_type": "code",
      "metadata": {
        "id": "9k8w-qF_I6-X",
        "colab_type": "code",
        "colab": {
          "base_uri": "https://localhost:8080/",
          "height": 34
        },
        "outputId": "437d6487-b096-4737-9f8f-926cf9b90a3f"
      },
      "source": [
        "!pwd"
      ],
      "execution_count": 67,
      "outputs": [
        {
          "output_type": "stream",
          "text": [
            "/content\n"
          ],
          "name": "stdout"
        }
      ]
    },
    {
      "cell_type": "code",
      "metadata": {
        "id": "vwqfh-M-I_tm",
        "colab_type": "code",
        "colab": {
          "base_uri": "https://localhost:8080/",
          "height": 646
        },
        "outputId": "8bab8500-506e-4c50-e2ff-6d7f1168e8bb"
      },
      "source": [
        "!rm --help"
      ],
      "execution_count": 73,
      "outputs": [
        {
          "output_type": "stream",
          "text": [
            "Usage: rm [OPTION]... [FILE]...\n",
            "Remove (unlink) the FILE(s).\n",
            "\n",
            "  -f, --force           ignore nonexistent files and arguments, never prompt\n",
            "  -i                    prompt before every removal\n",
            "  -I                    prompt once before removing more than three files, or\n",
            "                          when removing recursively; less intrusive than -i,\n",
            "                          while still giving protection against most mistakes\n",
            "      --interactive[=WHEN]  prompt according to WHEN: never, once (-I), or\n",
            "                          always (-i); without WHEN, prompt always\n",
            "      --one-file-system  when removing a hierarchy recursively, skip any\n",
            "                          directory that is on a file system different from\n",
            "                          that of the corresponding command line argument\n",
            "      --no-preserve-root  do not treat '/' specially\n",
            "      --preserve-root   do not remove '/' (default)\n",
            "  -r, -R, --recursive   remove directories and their contents recursively\n",
            "  -d, --dir             remove empty directories\n",
            "  -v, --verbose         explain what is being done\n",
            "      --help     display this help and exit\n",
            "      --version  output version information and exit\n",
            "\n",
            "By default, rm does not remove directories.  Use the --recursive (-r or -R)\n",
            "option to remove each listed directory, too, along with all of its contents.\n",
            "\n",
            "To remove a file whose name starts with a '-', for example '-foo',\n",
            "use one of these commands:\n",
            "  rm -- -foo\n",
            "\n",
            "  rm ./-foo\n",
            "\n",
            "Note that if you use rm to remove a file, it might be possible to recover\n",
            "some of its contents, given sufficient expertise and/or time.  For greater\n",
            "assurance that the contents are truly unrecoverable, consider using shred.\n",
            "\n",
            "GNU coreutils online help: <http://www.gnu.org/software/coreutils/>\n",
            "Full documentation at: <http://www.gnu.org/software/coreutils/rm>\n",
            "or available locally via: info '(coreutils) rm invocation'\n"
          ],
          "name": "stdout"
        }
      ]
    },
    {
      "cell_type": "code",
      "metadata": {
        "id": "Lxosypo2JlAd",
        "colab_type": "code",
        "colab": {
          "base_uri": "https://localhost:8080/",
          "height": 272
        },
        "outputId": "ae63a9ea-52df-438b-eb16-d7870cf69891"
      },
      "source": [
        "!rmdir --help"
      ],
      "execution_count": 70,
      "outputs": [
        {
          "output_type": "stream",
          "text": [
            "Usage: rmdir [OPTION]... DIRECTORY...\n",
            "Remove the DIRECTORY(ies), if they are empty.\n",
            "\n",
            "      --ignore-fail-on-non-empty\n",
            "                  ignore each failure that is solely because a directory\n",
            "                    is non-empty\n",
            "  -p, --parents   remove DIRECTORY and its ancestors; e.g., 'rmdir -p a/b/c' is\n",
            "                    similar to 'rmdir a/b/c a/b a'\n",
            "  -v, --verbose   output a diagnostic for every directory processed\n",
            "      --help     display this help and exit\n",
            "      --version  output version information and exit\n",
            "\n",
            "GNU coreutils online help: <http://www.gnu.org/software/coreutils/>\n",
            "Full documentation at: <http://www.gnu.org/software/coreutils/rmdir>\n",
            "or available locally via: info '(coreutils) rmdir invocation'\n"
          ],
          "name": "stdout"
        }
      ]
    },
    {
      "cell_type": "code",
      "metadata": {
        "id": "cyhXC6rwJvug",
        "colab_type": "code",
        "colab": {}
      },
      "source": [
        ""
      ],
      "execution_count": 0,
      "outputs": []
    }
  ]
}